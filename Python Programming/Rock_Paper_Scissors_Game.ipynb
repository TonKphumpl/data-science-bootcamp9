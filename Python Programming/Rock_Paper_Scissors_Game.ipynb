import random

def game():
    print("Welcome to Rock-Paper-Scissors game🔨📰✂️")
    weapons = ["rock", "paper", "scissors"]
    user_score = 0
    robot_score = 0

    while True:
        user_hand = input("Choose 1 weapon (rock🔨, paper📰, scissors✂️) or stop: ")
        robot_hand = random.choice(weapons)
        if user_hand == "stop":
            print("-------------------------------------------------------------------------")
            print(f"Total score => Your score 👨🏻: {user_score}, Robot Score 🤖: {robot_score}")
            return "Thank you for play game😊, GGWP💕"
            break
        elif user_hand == robot_hand:
            print(f"User 👨🏻: {user_hand}")
            print(f"Robot 🤖: {robot_hand}")
            print(f"Your score : {user_score}")
            print(f"Robot score : {robot_score}")
            print("Draw😏")
        elif user_hand == "rock" and robot_hand == weapons[2]:
            user_score += 1
            print(f"User 👨🏻: {user_hand}")
            print(f"Robot 🤖: {robot_hand}")
            print(f"Your score : {user_score}🥇")
            print(f"Robot score : {robot_score}")
            print("You Win!😀")
        elif user_hand == "paper" and robot_hand == weapons[0]:
            user_score += 1
            print(f"User 👨🏻: {user_hand}")
            print(f"Robot 🤖: {robot_hand}")
            print(f"Your score : {user_score}🥇")
            print(f"Robot score : {robot_score}")
            print("You Win!😀")
        elif user_hand == "scissors" and robot_hand == weapons[1]:
            user_score += 1
            print(f"User 👨🏻: {user_hand}")
            print(f"Robot 🤖: {robot_hand}")
            print(f"Your score : {user_score}🥇")
            print(f"Robot score : {robot_score}")
            print("You Win!😀")
        elif user_hand == "rock" and robot_hand == weapons[1]:
            robot_score += 1
            print(f"User 👨🏻: {user_hand}")
            print(f"Robot 🤖: {robot_hand}")
            print(f"Your score : {user_score}")
            print(f"Robot score : {robot_score}🥇")
            print("You Lose!😒")
        elif user_hand == "paper" and robot_hand == weapons[2]:
            robot_score += 1
            print(f"User 👨🏻: {user_hand}")
            print(f"Robot 🤖: {robot_hand}")
            print(f"Your score : {user_score}")
            print(f"Robot score : {robot_score}🥇")
            print("You Lose!😒")
        elif user_hand == "scissors" and robot_hand == weapons[0]:
            robot_score += 1
            print(f"User 👨🏻: {user_hand}")
            print(f"Robot 🤖: {robot_hand}")
            print(f"Your score : {user_score}")
            print(f"Robot score : {robot_score}🥇")
            print("You Lose!😒")
